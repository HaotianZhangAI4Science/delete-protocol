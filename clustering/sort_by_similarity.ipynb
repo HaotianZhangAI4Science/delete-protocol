{
 "cells": [
  {
   "cell_type": "code",
   "execution_count": null,
   "metadata": {},
   "outputs": [],
   "source": [
    "import pandas as pd\n",
    "import os.path as osp\n",
    "from glob import glob\n",
    "\n",
    "from rdkit.Chem import Draw\n",
    "from copy import deepcopy\n",
    "from PIL import Image\n",
    "import io\n",
    "\n",
    "from rdkit import DataStructs\n",
    "from utils import compute_sims, generalize, find_match, sort_lists_by_first_list, imgs2singlePDF, read_sdf, write_sdf\n",
    "import argparse"
   ]
  },
  {
   "cell_type": "code",
   "execution_count": null,
   "metadata": {},
   "outputs": [],
   "source": [
    "all_mols = './tmp/delete_gen_all_mols.sdf'\n",
    "query_mols = './tmp/query_mols.sdf' # query_mols is the truncated fragment files, used to highlight the substructure of all mols\n",
    "ori_mol = './tmp/KRD4.sdf' # used to compute the similarity\n",
    "out_pdf = './delete_gen_sim_sorted.sdf'"
   ]
  },
  {
   "cell_type": "code",
   "execution_count": null,
   "metadata": {},
   "outputs": [],
   "source": [
    "all_mols = read_sdf(all_mols)\n",
    "query_mols = read_sdf(query_mols)\n",
    "ori_mol = read_sdf(ori_mol)[0]\n",
    "\n",
    "sim_mat = compute_sims([ori_mol], all_mols)\n",
    "sim_metric = sim_mat[0].tolist()\n",
    "sims, show_mols = sort_lists_by_first_list([sim_metric, all_mols], ascending=False) # sort similarity\n",
    "print('show mols:', len(show_mols))\n",
    "\n",
    "\n",
    "show_mols = deepcopy(show_mols)\n",
    "[i.RemoveAllConformers() for i in show_mols] # remove conformers\n",
    "number = list(range(len(show_mols)))\n",
    "legends = [f'No.{i[0]}; Sim: {i[1]:.3f};' for i in zip(number, sims)]\n",
    "highlight_list = [find_match(mol, query_mols) for mol in show_mols] # create highlight atoms \n",
    "\n",
    "# group molecules for merging\n",
    "group_size = 52  \n",
    "show_mols_group = [show_mols[i:i + group_size] for i in range(0, len(show_mols), group_size)]\n",
    "highlight_list_group = [highlight_list[i:i + group_size] for i in range(0, len(highlight_list), group_size)]\n",
    "legends_group = [legends[i:i + group_size] for i in range(0, len(legends), group_size)]\n",
    "\n",
    "\n",
    "imgs = []\n",
    "for show_mols, legend, highlights in zip(show_mols_group, legends_group, highlight_list_group):\n",
    "    imgs.append(Draw.MolsToGridImage(show_mols, molsPerRow=4, subImgSize=(500,500), legends=legend, highlightAtomLists=highlights,maxMols=group_size))\n",
    "\n",
    "imgs2singlePDF(imgs, out_pdf)"
   ]
  }
 ],
 "metadata": {
  "language_info": {
   "name": "python"
  },
  "orig_nbformat": 4
 },
 "nbformat": 4,
 "nbformat_minor": 2
}
